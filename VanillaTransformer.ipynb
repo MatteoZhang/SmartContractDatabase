{
  "nbformat": 4,
  "nbformat_minor": 0,
  "metadata": {
    "colab": {
      "name": "VanillaTransformer.ipynb",
      "provenance": [],
      "authorship_tag": "ABX9TyP199KXXvJ/dz/Pc/oLdbje",
      "include_colab_link": true
    },
    "kernelspec": {
      "name": "python3",
      "display_name": "Python 3"
    },
    "language_info": {
      "name": "python"
    }
  },
  "cells": [
    {
      "cell_type": "markdown",
      "metadata": {
        "id": "view-in-github",
        "colab_type": "text"
      },
      "source": [
        "<a href=\"https://colab.research.google.com/github/MatteoZhang/SmartContractDatabase/blob/main/VanillaTransformer.ipynb\" target=\"_parent\"><img src=\"https://colab.research.google.com/assets/colab-badge.svg\" alt=\"Open In Colab\"/></a>"
      ]
    },
    {
      "cell_type": "code",
      "metadata": {
        "id": "w06S67j5JL3z"
      },
      "source": [
        "from torch import nn"
      ],
      "execution_count": null,
      "outputs": []
    }
  ]
}